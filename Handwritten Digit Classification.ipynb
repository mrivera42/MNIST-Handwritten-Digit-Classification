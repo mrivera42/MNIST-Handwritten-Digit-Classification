{
 "cells": [
  {
   "cell_type": "markdown",
   "id": "7afd993d",
   "metadata": {},
   "source": [
    "# MNIST - Handwritten Digit Classification"
   ]
  },
  {
   "cell_type": "markdown",
   "id": "9a6e3a5f",
   "metadata": {},
   "source": [
    "2/13/22"
   ]
  },
  {
   "cell_type": "markdown",
   "id": "cc140341",
   "metadata": {},
   "source": [
    "Max Rivera"
   ]
  },
  {
   "cell_type": "code",
   "execution_count": 11,
   "id": "e2b3428a",
   "metadata": {},
   "outputs": [],
   "source": [
    "import tensorflow as tf\n",
    "from tensorflow.keras.datasets import mnist\n",
    "import matplotlib.pyplot as plt\n",
    "import numpy as np\n",
    "import pandas as pd"
   ]
  },
  {
   "cell_type": "markdown",
   "id": "09db1414",
   "metadata": {},
   "source": [
    "## Data Preprocessing"
   ]
  },
  {
   "cell_type": "code",
   "execution_count": 2,
   "id": "f4f49bd3",
   "metadata": {},
   "outputs": [],
   "source": [
    "(X_train, y_train), (X_test, y_test) = mnist.load_data()"
   ]
  },
  {
   "cell_type": "code",
   "execution_count": 3,
   "id": "2b5ee6fc",
   "metadata": {},
   "outputs": [
    {
     "data": {
      "image/png": "[encoded data removed]",
      "text/plain": [
       "<Figure size 432x288 with 5 Axes>"
      ]
     },
     "metadata": {
      "needs_background": "light"
     },
     "output_type": "display_data"
    }
   ],
   "source": [
    "# visualize some of the data\n",
    "fig,ax = plt.subplots(1,5)\n",
    "for i in range(5):\n",
    "    ax[i].imshow(X_train[i],cmap='gray')"
   ]
  },
  {
   "cell_type": "code",
   "execution_count": 4,
   "id": "ae9347d4",
   "metadata": {},
   "outputs": [
    {
     "name": "stdout",
     "output_type": "stream",
     "text": [
      "(60000, 28, 28)\n",
      "(10000, 28, 28)\n"
     ]
    }
   ],
   "source": [
    "print(X_train.shape)\n",
    "print(X_test.shape)"
   ]
  },
  {
   "cell_type": "markdown",
   "id": "19cee882",
   "metadata": {},
   "source": [
    "Data consists of m examples of images of n x n. To feed into a simple neural network, the images need to be flattend (2 & 3rd dimensions), as well as normalized. Normalization involves setting the range for each sample to between 0 and 1. Since the max pixel value in each sample will be 255, simply dividing by 255 will accomplish this scale. "
   ]
  },
  {
   "cell_type": "code",
   "execution_count": 5,
   "id": "0249cfed",
   "metadata": {},
   "outputs": [
    {
     "name": "stdout",
     "output_type": "stream",
     "text": [
      "(60000, 784)\n",
      "(10000, 784)\n"
     ]
    }
   ],
   "source": [
    "# normalize and flatten images\n",
    "X_train = X_train.reshape(-1,28*28)/ 255.0\n",
    "X_test = X_test.reshape(-1,28*28)/ 255.0\n",
    "print(X_train.shape)\n",
    "print(X_test.shape)"
   ]
  },
  {
   "cell_type": "markdown",
   "id": "18658faf",
   "metadata": {},
   "source": [
    "## Initialize Model"
   ]
  },
  {
   "cell_type": "code",
   "execution_count": 6,
   "id": "a143e9c1",
   "metadata": {},
   "outputs": [
    {
     "name": "stderr",
     "output_type": "stream",
     "text": [
      "2022-02-13 23:04:18.783948: I tensorflow/core/platform/cpu_feature_guard.cc:145] This TensorFlow binary is optimized with Intel(R) MKL-DNN to use the following CPU instructions in performance critical operations:  SSE4.1 SSE4.2\n",
      "To enable them in non-MKL-DNN operations, rebuild TensorFlow with the appropriate compiler flags.\n",
      "2022-02-13 23:04:18.784371: I tensorflow/core/common_runtime/process_util.cc:115] Creating new thread pool with default inter op setting: 8. Tune using inter_op_parallelism_threads for best performance.\n"
     ]
    }
   ],
   "source": [
    "# functional API\n",
    "inputs = tf.keras.Input(shape=(784))\n",
    "x = tf.keras.layers.Dense(512, activation='relu')(inputs)\n",
    "x = tf.keras.layers.Dense(256, activation='relu')(x)\n",
    "output = tf.keras.layers.Dense(10,activation='softmax')(x)\n",
    "\n",
    "model = tf.keras.Model(inputs=inputs, outputs=output)"
   ]
  },
  {
   "cell_type": "code",
   "execution_count": 7,
   "id": "1b0e4b10",
   "metadata": {},
   "outputs": [],
   "source": [
    "model.compile(\n",
    "    loss = tf.keras.losses.SparseCategoricalCrossentropy(),\n",
    "    optimizer = 'adam',\n",
    "    metrics = ['accuracy']\n",
    ")"
   ]
  },
  {
   "cell_type": "markdown",
   "id": "8e20d13d",
   "metadata": {},
   "source": [
    "# Train Model"
   ]
  },
  {
   "cell_type": "markdown",
   "id": "122df558",
   "metadata": {},
   "source": [
    "For datasets < 2000, batch gradient descent is sufficient. However, this dataset has 70,000 samples, so minibatch gradient descent is more efficient in this case. Typical batch sizes are in powers of 2, so let's try 128. Let's also see if 40 epochs is enough to do well. "
   ]
  },
  {
   "cell_type": "code",
   "execution_count": 8,
   "id": "d3c88fa0",
   "metadata": {},
   "outputs": [
    {
     "name": "stdout",
     "output_type": "stream",
     "text": [
      "Train on 60000 samples, validate on 10000 samples\n",
      "Epoch 1/40\n",
      "60000/60000 [==============================] - 7s 121us/sample - loss: 0.2280 - accuracy: 0.9324 - val_loss: 0.0988 - val_accuracy: 0.9683\n",
      "Epoch 2/40\n",
      "60000/60000 [==============================] - 7s 111us/sample - loss: 0.0845 - accuracy: 0.9737 - val_loss: 0.0980 - val_accuracy: 0.9691\n",
      "Epoch 3/40\n",
      "60000/60000 [==============================] - 7s 111us/sample - loss: 0.0517 - accuracy: 0.9840 - val_loss: 0.0666 - val_accuracy: 0.9810\n",
      "Epoch 4/40\n",
      "60000/60000 [==============================] - 7s 115us/sample - loss: 0.0377 - accuracy: 0.9880 - val_loss: 0.0669 - val_accuracy: 0.9797\n",
      "Epoch 5/40\n",
      "60000/60000 [==============================] - 7s 111us/sample - loss: 0.0275 - accuracy: 0.9907 - val_loss: 0.0738 - val_accuracy: 0.9779\n",
      "Epoch 6/40\n",
      "60000/60000 [==============================] - 7s 110us/sample - loss: 0.0201 - accuracy: 0.9934 - val_loss: 0.0867 - val_accuracy: 0.9747\n",
      "Epoch 7/40\n",
      "60000/60000 [==============================] - 7s 112us/sample - loss: 0.0198 - accuracy: 0.9936 - val_loss: 0.0754 - val_accuracy: 0.9791\n",
      "Epoch 8/40\n",
      "60000/60000 [==============================] - 7s 111us/sample - loss: 0.0147 - accuracy: 0.9951 - val_loss: 0.0738 - val_accuracy: 0.9799\n",
      "Epoch 9/40\n",
      "60000/60000 [==============================] - 7s 111us/sample - loss: 0.0155 - accuracy: 0.9947 - val_loss: 0.0800 - val_accuracy: 0.9800\n",
      "Epoch 10/40\n",
      "60000/60000 [==============================] - 7s 116us/sample - loss: 0.0126 - accuracy: 0.9955 - val_loss: 0.0789 - val_accuracy: 0.9803\n",
      "Epoch 11/40\n",
      "60000/60000 [==============================] - 7s 113us/sample - loss: 0.0125 - accuracy: 0.9960 - val_loss: 0.0788 - val_accuracy: 0.9820\n",
      "Epoch 12/40\n",
      "60000/60000 [==============================] - 7s 113us/sample - loss: 0.0110 - accuracy: 0.9963 - val_loss: 0.0801 - val_accuracy: 0.9801\n",
      "Epoch 13/40\n",
      "60000/60000 [==============================] - 7s 111us/sample - loss: 0.0084 - accuracy: 0.9971 - val_loss: 0.0895 - val_accuracy: 0.9802\n",
      "Epoch 14/40\n",
      "60000/60000 [==============================] - 7s 112us/sample - loss: 0.0112 - accuracy: 0.9959 - val_loss: 0.0907 - val_accuracy: 0.9799\n",
      "Epoch 15/40\n",
      "60000/60000 [==============================] - 7s 115us/sample - loss: 0.0091 - accuracy: 0.9972 - val_loss: 0.0862 - val_accuracy: 0.9799\n",
      "Epoch 16/40\n",
      "60000/60000 [==============================] - 7s 112us/sample - loss: 0.0074 - accuracy: 0.9976 - val_loss: 0.0875 - val_accuracy: 0.9817\n",
      "Epoch 17/40\n",
      "60000/60000 [==============================] - 7s 112us/sample - loss: 0.0092 - accuracy: 0.9970 - val_loss: 0.0945 - val_accuracy: 0.9823\n",
      "Epoch 18/40\n",
      "60000/60000 [==============================] - 7s 111us/sample - loss: 0.0061 - accuracy: 0.9980 - val_loss: 0.0857 - val_accuracy: 0.9828\n",
      "Epoch 19/40\n",
      "60000/60000 [==============================] - 7s 112us/sample - loss: 0.0076 - accuracy: 0.9973 - val_loss: 0.0864 - val_accuracy: 0.9832\n",
      "Epoch 20/40\n",
      "60000/60000 [==============================] - 7s 111us/sample - loss: 0.0073 - accuracy: 0.9976 - val_loss: 0.0845 - val_accuracy: 0.9830\n",
      "Epoch 21/40\n",
      "60000/60000 [==============================] - 7s 112us/sample - loss: 0.0053 - accuracy: 0.9982 - val_loss: 0.0877 - val_accuracy: 0.9826\n",
      "Epoch 22/40\n",
      "60000/60000 [==============================] - 7s 112us/sample - loss: 0.0059 - accuracy: 0.9981 - val_loss: 0.0953 - val_accuracy: 0.9827\n",
      "Epoch 23/40\n",
      "60000/60000 [==============================] - 7s 112us/sample - loss: 0.0092 - accuracy: 0.9969 - val_loss: 0.1151 - val_accuracy: 0.9793\n",
      "Epoch 24/40\n",
      "60000/60000 [==============================] - 7s 110us/sample - loss: 0.0065 - accuracy: 0.9980 - val_loss: 0.0988 - val_accuracy: 0.9820\n",
      "Epoch 25/40\n",
      "60000/60000 [==============================] - 7s 115us/sample - loss: 0.0041 - accuracy: 0.9988 - val_loss: 0.1025 - val_accuracy: 0.9807\n",
      "Epoch 26/40\n",
      "60000/60000 [==============================] - 7s 111us/sample - loss: 0.0081 - accuracy: 0.9973 - val_loss: 0.0991 - val_accuracy: 0.9815\n",
      "Epoch 27/40\n",
      "60000/60000 [==============================] - 7s 111us/sample - loss: 0.0023 - accuracy: 0.9993 - val_loss: 0.0873 - val_accuracy: 0.9844\n",
      "Epoch 28/40\n",
      "60000/60000 [==============================] - 7s 111us/sample - loss: 9.3615e-04 - accuracy: 0.9996 - val_loss: 0.0929 - val_accuracy: 0.9833\n",
      "Epoch 29/40\n",
      "60000/60000 [==============================] - 7s 113us/sample - loss: 0.0089 - accuracy: 0.9972 - val_loss: 0.1144 - val_accuracy: 0.9814\n",
      "Epoch 30/40\n",
      "60000/60000 [==============================] - 7s 112us/sample - loss: 0.0079 - accuracy: 0.9976 - val_loss: 0.1113 - val_accuracy: 0.9804\n",
      "Epoch 31/40\n",
      "60000/60000 [==============================] - 7s 112us/sample - loss: 0.0051 - accuracy: 0.9983 - val_loss: 0.1048 - val_accuracy: 0.9824\n",
      "Epoch 32/40\n",
      "60000/60000 [==============================] - 7s 114us/sample - loss: 0.0026 - accuracy: 0.9994 - val_loss: 0.0858 - val_accuracy: 0.9843\n",
      "Epoch 33/40\n",
      "60000/60000 [==============================] - 7s 113us/sample - loss: 0.0032 - accuracy: 0.9992 - val_loss: 0.1127 - val_accuracy: 0.9829\n",
      "Epoch 34/40\n",
      "60000/60000 [==============================] - 8s 129us/sample - loss: 0.0073 - accuracy: 0.9979 - val_loss: 0.1059 - val_accuracy: 0.9811\n",
      "Epoch 35/40\n",
      "60000/60000 [==============================] - 7s 122us/sample - loss: 0.0056 - accuracy: 0.9982 - val_loss: 0.1076 - val_accuracy: 0.9828\n",
      "Epoch 36/40\n",
      "60000/60000 [==============================] - 7s 117us/sample - loss: 0.0027 - accuracy: 0.9992 - val_loss: 0.1079 - val_accuracy: 0.9832\n",
      "Epoch 37/40\n",
      "60000/60000 [==============================] - 7s 112us/sample - loss: 0.0044 - accuracy: 0.9988 - val_loss: 0.1304 - val_accuracy: 0.9813\n",
      "Epoch 38/40\n",
      "60000/60000 [==============================] - 7s 119us/sample - loss: 0.0081 - accuracy: 0.9980 - val_loss: 0.1034 - val_accuracy: 0.9819\n",
      "Epoch 39/40\n",
      "60000/60000 [==============================] - 7s 115us/sample - loss: 9.8493e-04 - accuracy: 0.9998 - val_loss: 0.0955 - val_accuracy: 0.9850\n",
      "Epoch 40/40\n",
      "60000/60000 [==============================] - 7s 112us/sample - loss: 9.0218e-05 - accuracy: 1.0000 - val_loss: 0.0940 - val_accuracy: 0.9851\n"
     ]
    },
    {
     "data": {
      "text/plain": [
       "<tensorflow.python.keras.callbacks.History at 0x7fa909154690>"
      ]
     },
     "execution_count": 8,
     "metadata": {},
     "output_type": "execute_result"
    }
   ],
   "source": [
    "model.fit(\n",
    "    x=X_train,\n",
    "    y=y_train,\n",
    "    batch_size=128,\n",
    "    epochs=40,\n",
    "    validation_data=(X_test, y_test)\n",
    ")"
   ]
  },
  {
   "cell_type": "code",
   "execution_count": 14,
   "id": "a57a0254",
   "metadata": {},
   "outputs": [
    {
     "name": "stdout",
     "output_type": "stream",
     "text": [
      "Model: \"model\"\n",
      "_________________________________________________________________\n",
      "Layer (type)                 Output Shape              Param #   \n",
      "=================================================================\n",
      "input_1 (InputLayer)         [(None, 784)]             0         \n",
      "_________________________________________________________________\n",
      "dense (Dense)                (None, 512)               401920    \n",
      "_________________________________________________________________\n",
      "dense_1 (Dense)              (None, 256)               131328    \n",
      "_________________________________________________________________\n",
      "dense_2 (Dense)              (None, 10)                2570      \n",
      "=================================================================\n",
      "Total params: 535,818\n",
      "Trainable params: 535,818\n",
      "Non-trainable params: 0\n",
      "_________________________________________________________________\n",
      "None\n"
     ]
    }
   ],
   "source": [
    "print(model.summary())"
   ]
  },
  {
   "cell_type": "code",
   "execution_count": 12,
   "id": "ca6d8bee",
   "metadata": {},
   "outputs": [
    {
     "data": {
      "text/plain": [
       "<AxesSubplot:>"
      ]
     },
     "execution_count": 12,
     "metadata": {},
     "output_type": "execute_result"
    },
    {
     "data": {
      "image/png": "[encoded data removed]",
      "text/plain": [
       "<Figure size 432x288 with 1 Axes>"
      ]
     },
     "metadata": {
      "needs_background": "light"
     },
     "output_type": "display_data"
    }
   ],
   "source": [
    "loss = pd.DataFrame(model.history.history)\n",
    "loss.plot()"
   ]
  },
  {
   "cell_type": "markdown",
   "id": "87981d48",
   "metadata": {},
   "source": [
    "It looks like we didn't need to train that long. Let's evaluate. "
   ]
  },
  {
   "cell_type": "markdown",
   "id": "550ed286",
   "metadata": {},
   "source": [
    "# Model Evaluation"
   ]
  },
  {
   "cell_type": "code",
   "execution_count": 15,
   "id": "51c75fe2",
   "metadata": {},
   "outputs": [
    {
     "name": "stdout",
     "output_type": "stream",
     "text": [
      "10000/1 - 0s - loss: 0.0470 - accuracy: 0.9851\n"
     ]
    },
    {
     "data": {
      "text/plain": [
       "[0.09395719879417246, 0.9851]"
      ]
     },
     "execution_count": 15,
     "metadata": {},
     "output_type": "execute_result"
    }
   ],
   "source": [
    "model.evaluate(X_test, y_test, batch_size=128,verbose=2)"
   ]
  },
  {
   "cell_type": "markdown",
   "id": "a58711e0",
   "metadata": {},
   "source": [
    "So in summary, this model achieved a 100% accuracy on the training set and a 98% accuracy on the test set. A smaller number of epochs might have been sufficient to do well on the test set and prevent overfitting.  "
   ]
  },
  {
   "cell_type": "code",
   "execution_count": null,
   "id": "297e23a8",
   "metadata": {},
   "outputs": [],
   "source": []
  }
 ],
 "metadata": {
  "kernelspec": {
   "display_name": "Python 3 (ipykernel)",
   "language": "python",
   "name": "python3"
  },
  "language_info": {
   "codemirror_mode": {
    "name": "ipython",
    "version": 3
   },
   "file_extension": ".py",
   "mimetype": "text/x-python",
   "name": "python",
   "nbconvert_exporter": "python",
   "pygments_lexer": "ipython3",
   "version": "3.7.11"
  }
 },
 "nbformat": 4,
 "nbformat_minor": 5
}
